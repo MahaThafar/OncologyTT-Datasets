{
 "cells": [
  {
   "cell_type": "markdown",
   "metadata": {},
   "source": [
    "## Dealing with Jason file to get required information"
   ]
  },
  {
   "cell_type": "code",
   "execution_count": 1,
   "metadata": {},
   "outputs": [],
   "source": [
    "# All needed packages\n",
    "\n",
    "import pandas as pd\n",
    "import math as math\n",
    "import numpy as np\n",
    "import csv\n",
    "import json\n"
   ]
  },
  {
   "cell_type": "code",
   "execution_count": 2,
   "metadata": {},
   "outputs": [],
   "source": [
    "cancertypes = [\"new_anti_cancer\",\n",
    "               \"Bladder\",\n",
    "               \"Bone\", \"Breast\", \"Colon\", \"Kidney\", \"Liver\",\n",
    "               \"Luk\", \"Lung\", \"NonHodgkinLymph\", \"Ovarian\", \"Pancreatic\",\n",
    "               \"PlasmaCell\", \"Rectal\", \"Thyroid\"\n",
    "               ]\n"
   ]
  },
  {
   "cell_type": "code",
   "execution_count": 3,
   "metadata": {},
   "outputs": [],
   "source": [
    "def test_readaminoacidseqs():\n",
    "    targets = json.load(open(\"targets.json\"))\n",
    "    for cancertype in cancertypes:\n",
    "        for drug in targets[cancertype]:\n",
    "            print()\n",
    "            print(\"Drug name: %s, id: %s\" % (drug[\"name\"], drug[\"drugbankid\"]))\n",
    "            for target in drug[\"targets\"]:\n",
    "                print(\"Target gene name: %s\" % target[\"gene\"])\n",
    "                print(target[\"amino-acid-sequence\"][:200])"
   ]
  },
  {
   "cell_type": "code",
   "execution_count": 4,
   "metadata": {},
   "outputs": [],
   "source": [
    "targets = json.load(open(\"Datasets/targets.json\"))\n",
    "\n"
   ]
  },
  {
   "cell_type": "code",
   "execution_count": 5,
   "metadata": {},
   "outputs": [
    {
     "name": "stdout",
     "output_type": "stream",
     "text": [
      "\n",
      "*** Bladder cancer ***\n",
      "number of drugs 13\n",
      "number of genes 24\n",
      "\n",
      "*** Breast cancer ***\n",
      "number of drugs 40\n",
      "number of genes 71\n",
      "\n",
      "*** Bone cancer ***\n",
      "number of drugs 5\n",
      "number of genes 12\n",
      "\n",
      "*** Colon cancer ***\n",
      "number of drugs 16\n",
      "number of genes 39\n",
      "\n",
      "*** Kidney cancer ***\n",
      "number of drugs 19\n",
      "number of genes 43\n",
      "\n",
      "*** Liver cancer ***\n",
      "number of drugs 10\n",
      "number of genes 34\n",
      "\n",
      "*** Luk cancer ***\n",
      "number of drugs 54\n",
      "number of genes 134\n",
      "\n",
      "*** Lung cancer ***\n",
      "number of drugs 39\n",
      "number of genes 68\n",
      "\n",
      "*** NonHodgkinLymph cancer ***\n",
      "number of drugs 47\n",
      "number of genes 92\n",
      "\n",
      "*** Ovarian cancer ***\n",
      "number of drugs 15\n",
      "number of genes 32\n",
      "\n",
      "*** Pancreatic cancer ***\n",
      "number of drugs 10\n",
      "number of genes 28\n",
      "\n",
      "*** Rectal cancer ***\n",
      "number of drugs 16\n",
      "number of genes 39\n",
      "\n",
      "*** Thyroid cancer ***\n",
      "number of drugs 10\n",
      "number of genes 33\n"
     ]
    }
   ],
   "source": [
    "Cancers = ['Bladder','Breast','Bone','Colon','Kidney','Liver','Luk','Lung',\n",
    "           'NonHodgkinLymph','Ovarian','Pancreatic','Rectal','Thyroid' ]\n",
    "\n",
    "\n",
    "\n",
    "for cancer in Cancers:\n",
    "    drugs = []\n",
    "    genes = []\n",
    "    print('\\n*** %s cancer ***' %(cancer))\n",
    "    for drug in targets[cancer]:\n",
    "        #print(\"\\nDrug Name: %s, ID: %s\" % (drug[\"name\"], drug[\"drugbankid\"]))\n",
    "        drugs.append(drug[\"drugbankid\"])\n",
    "\n",
    "        for target in drug[\"targets\"]:\n",
    "            #print(\"Target Gene name: %s\" % (target[\"gene\"]))\n",
    "            genes.append(target[\"gene\"])\n",
    "    \n",
    "    print('number of drugs',len(set(drugs)))        \n",
    "    print('number of genes', len(set(genes)))\n",
    "    #         print(target[\"amino-acid-sequence\"])"
   ]
  },
  {
   "cell_type": "code",
   "execution_count": 6,
   "metadata": {},
   "outputs": [
    {
     "name": "stdout",
     "output_type": "stream",
     "text": [
      "number of approved drugs interacted: 10\n",
      "number of drugs' target genes: 33\n"
     ]
    }
   ],
   "source": [
    "print('number of approved drugs interacted:', len(set(drugs)))\n",
    "print(\"number of drugs' target genes:\", len(set(genes)))"
   ]
  },
  {
   "cell_type": "code",
   "execution_count": null,
   "metadata": {},
   "outputs": [],
   "source": []
  },
  {
   "cell_type": "code",
   "execution_count": 7,
   "metadata": {},
   "outputs": [
    {
     "name": "stdout",
     "output_type": "stream",
     "text": [
      "\n",
      "*** Bladder cancer ***\n",
      "target (24, 3)\n",
      "\n",
      "*** Breast cancer ***\n",
      "target (71, 3)\n",
      "\n",
      "*** Bone cancer ***\n",
      "target (12, 3)\n",
      "\n",
      "*** Colon cancer ***\n",
      "target (39, 3)\n",
      "\n",
      "*** Kidney cancer ***\n",
      "target (43, 3)\n",
      "\n",
      "*** Liver cancer ***\n",
      "target (34, 3)\n",
      "\n",
      "*** Luk cancer ***\n",
      "target (134, 3)\n",
      "\n",
      "*** Lung cancer ***\n",
      "target (68, 3)\n",
      "\n",
      "*** NonHodgkinLymph cancer ***\n",
      "target (92, 3)\n",
      "\n",
      "*** Ovarian cancer ***\n",
      "target (32, 3)\n",
      "\n",
      "*** Pancreatic cancer ***\n",
      "target (28, 3)\n",
      "\n",
      "*** Rectal cancer ***\n",
      "target (39, 3)\n",
      "\n",
      "*** Thyroid cancer ***\n",
      "target (33, 3)\n"
     ]
    }
   ],
   "source": [
    "Cancers = ['Bladder','Breast','Bone','Colon','Kidney','Liver','Luk','Lung',\n",
    "           'NonHodgkinLymph','Ovarian','Pancreatic','Rectal','Thyroid' ]\n",
    "\n",
    "\n",
    "for cancer in Cancers:\n",
    "    \n",
    "    drugs = []\n",
    "    genes = []\n",
    "    genes_info = []\n",
    "    print('\\n*** %s cancer ***' %(cancer))\n",
    "    \n",
    "    for drug in targets[cancer]:\n",
    "        #print(\"\\nDrug Name: %s, ID: %s\" % (drug[\"name\"], drug[\"drugbankid\"]))\n",
    "        drugs.append(drug[\"drugbankid\"])\n",
    "\n",
    "        for target in drug[\"targets\"]:\n",
    "            tr = target[\"amino-acid-sequence\"].split(\"\\n\",1)[1]\n",
    "            g = target[\"gene\"] , tr, 1\n",
    "            genes_info.append(g)\n",
    "            genes.append(target[\"gene\"])\n",
    "\n",
    "    tr_labels = pd.DataFrame(genes_info, columns=['Gene','Sequence','Label'])\n",
    "    tr_labels = tr_labels.drop_duplicates(subset=['Gene'])\n",
    "    print('target',tr_labels.shape)\n",
    "    tr_labels.to_csv('Datasets/train_Data/Positive targets/'+str(cancer)+'_targets_positive.csv',index = False)"
   ]
  },
  {
   "cell_type": "code",
   "execution_count": 8,
   "metadata": {},
   "outputs": [
    {
     "name": "stdout",
     "output_type": "stream",
     "text": [
      "\n",
      "*** Bladder cancer ***\n",
      "\n",
      "*** Breast cancer ***\n",
      "\n",
      "*** Bone cancer ***\n",
      "\n",
      "*** Colon cancer ***\n",
      "\n",
      "*** Kidney cancer ***\n",
      "\n",
      "*** Liver cancer ***\n",
      "\n",
      "*** Luk cancer ***\n",
      "\n",
      "*** Lung cancer ***\n",
      "\n",
      "*** NonHodgkinLymph cancer ***\n",
      "\n",
      "*** Ovarian cancer ***\n",
      "\n",
      "*** Pancreatic cancer ***\n",
      "\n",
      "*** Rectal cancer ***\n",
      "\n",
      "*** Thyroid cancer ***\n"
     ]
    }
   ],
   "source": [
    "Cancers = ['Bladder','Breast','Bone','Colon','Kidney','Liver','Luk','Lung',\n",
    "           'NonHodgkinLymph','Ovarian','Pancreatic','Rectal','Thyroid' ]\n",
    "allT = []\n",
    "\n",
    "for cancer in Cancers:\n",
    "    \n",
    "    print('\\n*** %s cancer ***' %(cancer))\n",
    "    \n",
    "    for drug in targets[cancer]:\n",
    "        for target in drug[\"targets\"]:\n",
    "            allT.append(target[\"gene\"])\n",
    "\n",
    "    tr_labels = pd.DataFrame(genes_info, columns=['Gene','Sequence','Label'])\n",
    "    tr_labels = tr_labels.drop_duplicates(subset=['Gene'])\n",
    "    tr_labels.to_csv('Datasets/train_Data/Positive targets/'+str(cancer)+'_targets_positive.csv',index = False)"
   ]
  },
  {
   "cell_type": "code",
   "execution_count": 9,
   "metadata": {},
   "outputs": [],
   "source": [
    "allT_df = pd.DataFrame(allT,columns=['Gene'])\n",
    "allT_df = allT_df.drop_duplicates()\n",
    "allT_df.to_csv('Datasets/train_Data/all_positive_targets.csv',index = False)"
   ]
  },
  {
   "cell_type": "code",
   "execution_count": 10,
   "metadata": {},
   "outputs": [
    {
     "data": {
      "text/html": [
       "<div>\n",
       "<style scoped>\n",
       "    .dataframe tbody tr th:only-of-type {\n",
       "        vertical-align: middle;\n",
       "    }\n",
       "\n",
       "    .dataframe tbody tr th {\n",
       "        vertical-align: top;\n",
       "    }\n",
       "\n",
       "    .dataframe thead th {\n",
       "        text-align: right;\n",
       "    }\n",
       "</style>\n",
       "<table border=\"1\" class=\"dataframe\">\n",
       "  <thead>\n",
       "    <tr style=\"text-align: right;\">\n",
       "      <th></th>\n",
       "      <th>Gene</th>\n",
       "    </tr>\n",
       "  </thead>\n",
       "  <tbody>\n",
       "    <tr>\n",
       "      <th>0</th>\n",
       "      <td>CD274</td>\n",
       "    </tr>\n",
       "    <tr>\n",
       "      <th>2</th>\n",
       "      <td>FGFR1</td>\n",
       "    </tr>\n",
       "    <tr>\n",
       "      <th>3</th>\n",
       "      <td>FGFR2</td>\n",
       "    </tr>\n",
       "    <tr>\n",
       "      <th>4</th>\n",
       "      <td>FGFR3</td>\n",
       "    </tr>\n",
       "    <tr>\n",
       "      <th>5</th>\n",
       "      <td>FGFR4</td>\n",
       "    </tr>\n",
       "    <tr>\n",
       "      <th>...</th>\n",
       "      <td>...</td>\n",
       "    </tr>\n",
       "    <tr>\n",
       "      <th>725</th>\n",
       "      <td>EZH2</td>\n",
       "    </tr>\n",
       "    <tr>\n",
       "      <th>726</th>\n",
       "      <td>EZH1</td>\n",
       "    </tr>\n",
       "    <tr>\n",
       "      <th>727</th>\n",
       "      <td>ATP1A1</td>\n",
       "    </tr>\n",
       "    <tr>\n",
       "      <th>728</th>\n",
       "      <td>ADRB1</td>\n",
       "    </tr>\n",
       "    <tr>\n",
       "      <th>744</th>\n",
       "      <td>acuC1</td>\n",
       "    </tr>\n",
       "  </tbody>\n",
       "</table>\n",
       "<p>269 rows × 1 columns</p>\n",
       "</div>"
      ],
      "text/plain": [
       "       Gene\n",
       "0     CD274\n",
       "2     FGFR1\n",
       "3     FGFR2\n",
       "4     FGFR3\n",
       "5     FGFR4\n",
       "..      ...\n",
       "725    EZH2\n",
       "726    EZH1\n",
       "727  ATP1A1\n",
       "728   ADRB1\n",
       "744   acuC1\n",
       "\n",
       "[269 rows x 1 columns]"
      ]
     },
     "execution_count": 10,
     "metadata": {},
     "output_type": "execute_result"
    }
   ],
   "source": [
    "allT_df"
   ]
  },
  {
   "cell_type": "code",
   "execution_count": 11,
   "metadata": {},
   "outputs": [],
   "source": [
    "# allT_info = pd.DataFrame(allT_w_info,columns=['Gene','Sequence','Label'])\n",
    "# allT_info = allT_df.drop_duplicates(subset=['Gene'])\n",
    "# allT_info.to_csv('Datasets/train_Data/all_positive_targets_with_info.csv',index = False)"
   ]
  },
  {
   "cell_type": "code",
   "execution_count": null,
   "metadata": {},
   "outputs": [],
   "source": []
  },
  {
   "cell_type": "code",
   "execution_count": null,
   "metadata": {},
   "outputs": [],
   "source": []
  },
  {
   "cell_type": "code",
   "execution_count": null,
   "metadata": {},
   "outputs": [],
   "source": []
  },
  {
   "cell_type": "code",
   "execution_count": null,
   "metadata": {},
   "outputs": [],
   "source": []
  },
  {
   "cell_type": "code",
   "execution_count": null,
   "metadata": {},
   "outputs": [],
   "source": []
  }
 ],
 "metadata": {
  "kernelspec": {
   "display_name": "Python 3",
   "language": "python",
   "name": "python3"
  },
  "language_info": {
   "codemirror_mode": {
    "name": "ipython",
    "version": 3
   },
   "file_extension": ".py",
   "mimetype": "text/x-python",
   "name": "python",
   "nbconvert_exporter": "python",
   "pygments_lexer": "ipython3",
   "version": "3.8.5"
  }
 },
 "nbformat": 4,
 "nbformat_minor": 4
}
