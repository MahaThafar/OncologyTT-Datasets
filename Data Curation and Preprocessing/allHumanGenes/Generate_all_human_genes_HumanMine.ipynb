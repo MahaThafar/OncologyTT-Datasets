{
 "cells": [
  {
   "cell_type": "markdown",
   "id": "0df14863",
   "metadata": {},
   "source": [
    "### generate all human genes from\n",
    "## HUMANMINE:\n",
    "https://www.humanmine.org/humanmine\n",
    "### to generate the negative samples for non-target genes"
   ]
  },
  {
   "cell_type": "code",
   "execution_count": 1,
   "id": "5b5e0918",
   "metadata": {},
   "outputs": [],
   "source": [
    "import pandas as pd\n",
    "import random"
   ]
  },
  {
   "cell_type": "code",
   "execution_count": 2,
   "id": "9a81590f",
   "metadata": {},
   "outputs": [
    {
     "data": {
      "text/plain": [
       "<MultiConstraint: Gene.organism.name ONE OF ['Homo sapiens']>"
      ]
     },
     "execution_count": 2,
     "metadata": {},
     "output_type": "execute_result"
    }
   ],
   "source": [
    "#!/usr/bin/env python\n",
    "\n",
    "# This is an automatically generated script to run your query\n",
    "# to use it you will require the intermine python client.\n",
    "# To install the client, run the following command from a terminal:\n",
    "#\n",
    "#     sudo easy_install intermine\n",
    "#\n",
    "# For further documentation you can visit:\n",
    "#     http://intermine.readthedocs.org/en/latest/web-services/\n",
    "\n",
    "# The line below will be needed if you are running this script with python 2.\n",
    "# Python 3 will ignore it.\n",
    "from __future__ import print_function\n",
    "\n",
    "# The following two lines will be needed in every python script:\n",
    "from intermine.webservice import Service\n",
    "service = Service(\"https://www.humanmine.org/humanmine/service\")\n",
    "\n",
    "# Get a new query on the class (table) you will be querying:\n",
    "query = service.new_query(\"Gene\")\n",
    "\n",
    "# The view specifies the output columns\n",
    "query.add_view(\"symbol\", \"name\", \"proteins.sequence.residues\")\n",
    "\n",
    "# This query's custom sort order is specified below:\n",
    "query.add_sort_order(\"Gene.symbol\", \"ASC\")\n",
    "\n",
    "# You can edit the constraint values below\n",
    "# query.add_constraint(\"Gene\", \"IN\",\"PL_BHF_UCL_cardiovascGenes\",code=\"A\")\n",
    "query.add_constraint(\"organism.name\", \"ONE OF\", [\"Homo sapiens\"], code=\"A\")\n",
    "                     \n",
    "     "
   ]
  },
  {
   "cell_type": "code",
   "execution_count": 3,
   "id": "246cefea",
   "metadata": {},
   "outputs": [],
   "source": [
    "human_Genes = []\n",
    "\n",
    "for row in query.rows():\n",
    "    gene = row[\"symbol\"] , row[\"name\"] , row[\"proteins.sequence.residues\"]\n",
    "    human_Genes.append(gene)\n",
    "    #print(row[\"symbol\"]), row[\"proteins.sequence.residues\"])"
   ]
  },
  {
   "cell_type": "code",
   "execution_count": 4,
   "id": "bed255fb",
   "metadata": {},
   "outputs": [
    {
     "data": {
      "text/plain": [
       "(48928, 3)"
      ]
     },
     "execution_count": 4,
     "metadata": {},
     "output_type": "execute_result"
    }
   ],
   "source": [
    "# convert the list into pandas dataframe\n",
    "Hm_Genes_df = pd.DataFrame(human_Genes, columns=[\"Gene\" , \"protein name\",\"Sequence\"])\n",
    "Hm_Genes_df.shape"
   ]
  },
  {
   "cell_type": "code",
   "execution_count": 5,
   "id": "3c4641a1",
   "metadata": {},
   "outputs": [
    {
     "data": {
      "text/plain": [
       "(18904, 3)"
      ]
     },
     "execution_count": 5,
     "metadata": {},
     "output_type": "execute_result"
    }
   ],
   "source": [
    "Hm_Genes = Hm_Genes_df.drop_duplicates(subset=['Gene'])\n",
    "Hm_Genes.shape"
   ]
  },
  {
   "cell_type": "code",
   "execution_count": 6,
   "id": "5c44ec82",
   "metadata": {},
   "outputs": [
    {
     "data": {
      "text/plain": [
       "(18901, 3)"
      ]
     },
     "execution_count": 6,
     "metadata": {},
     "output_type": "execute_result"
    }
   ],
   "source": [
    "Hm_Genes = Hm_Genes.dropna()\n",
    "Hm_Genes.shape"
   ]
  },
  {
   "cell_type": "code",
   "execution_count": 7,
   "id": "a0624d49",
   "metadata": {},
   "outputs": [
    {
     "data": {
      "text/html": [
       "<div>\n",
       "<style scoped>\n",
       "    .dataframe tbody tr th:only-of-type {\n",
       "        vertical-align: middle;\n",
       "    }\n",
       "\n",
       "    .dataframe tbody tr th {\n",
       "        vertical-align: top;\n",
       "    }\n",
       "\n",
       "    .dataframe thead th {\n",
       "        text-align: right;\n",
       "    }\n",
       "</style>\n",
       "<table border=\"1\" class=\"dataframe\">\n",
       "  <thead>\n",
       "    <tr style=\"text-align: right;\">\n",
       "      <th></th>\n",
       "      <th>Gene</th>\n",
       "      <th>protein name</th>\n",
       "      <th>Sequence</th>\n",
       "    </tr>\n",
       "  </thead>\n",
       "  <tbody>\n",
       "    <tr>\n",
       "      <th>0</th>\n",
       "      <td>A1BG</td>\n",
       "      <td>alpha-1-B glycoprotein</td>\n",
       "      <td>MSMLVVFLLLWGVTWGPVTEAAIFYETQPSLWAESESLLKPLANVT...</td>\n",
       "    </tr>\n",
       "    <tr>\n",
       "      <th>2</th>\n",
       "      <td>A1CF</td>\n",
       "      <td>APOBEC1 complementation factor</td>\n",
       "      <td>MESNHKSGDGLSGTQKEAALRALVQRTGYSLVQENGQRKYGGPPPG...</td>\n",
       "    </tr>\n",
       "    <tr>\n",
       "      <th>12</th>\n",
       "      <td>A2M</td>\n",
       "      <td>alpha-2-macroglobulin</td>\n",
       "      <td>MGKNKLLHPSLVLLLLVLLPTDASVSGKPQYMVLVPSLLHTETTEK...</td>\n",
       "    </tr>\n",
       "    <tr>\n",
       "      <th>13</th>\n",
       "      <td>A2ML1</td>\n",
       "      <td>alpha-2-macroglobulin like 1</td>\n",
       "      <td>MWAQLLLGMLALSPAIAEELPNYLVTLPARLNFPSVQKVCLDLSPG...</td>\n",
       "    </tr>\n",
       "    <tr>\n",
       "      <th>16</th>\n",
       "      <td>A3GALT2</td>\n",
       "      <td>alpha 1,3-galactosyltransferase 2</td>\n",
       "      <td>MALKEGLRAWKRIFWRQILLTLGLLGLFLYGLPKFRHLEALIPMGV...</td>\n",
       "    </tr>\n",
       "    <tr>\n",
       "      <th>...</th>\n",
       "      <td>...</td>\n",
       "      <td>...</td>\n",
       "      <td>...</td>\n",
       "    </tr>\n",
       "    <tr>\n",
       "      <th>48910</th>\n",
       "      <td>ZYG11A</td>\n",
       "      <td>zyg-11 family member A, cell cycle regulator</td>\n",
       "      <td>MVHFLHPGHTPRNIVPPDAQKDALGCCVVQEEASPYTLVNICLNVL...</td>\n",
       "    </tr>\n",
       "    <tr>\n",
       "      <th>48912</th>\n",
       "      <td>ZYG11B</td>\n",
       "      <td>zyg-11 family member B, cell cycle regulator</td>\n",
       "      <td>MPEDQAGAAMEEASPYSLLDICLNFLTTHLEKFCSARQDGTLCLQE...</td>\n",
       "    </tr>\n",
       "    <tr>\n",
       "      <th>48916</th>\n",
       "      <td>ZYX</td>\n",
       "      <td>zyxin</td>\n",
       "      <td>MAAPRPSPAISVSVSAPAFYAPQKKFGPVVAPKPKVNPFRPGDSEP...</td>\n",
       "    </tr>\n",
       "    <tr>\n",
       "      <th>48918</th>\n",
       "      <td>ZZEF1</td>\n",
       "      <td>zinc finger ZZ-type and EF-hand domain contain...</td>\n",
       "      <td>MGNAPSHSSEDEAAAAGGEGWGPHQDWAAVSGTTPGPGVAAPALPP...</td>\n",
       "    </tr>\n",
       "    <tr>\n",
       "      <th>48921</th>\n",
       "      <td>ZZZ3</td>\n",
       "      <td>zinc finger ZZ-type containing 3</td>\n",
       "      <td>MAASRSTRVTRSTVGLNGLDESFCGRTLRNRSIAHPEEISSNSQVR...</td>\n",
       "    </tr>\n",
       "  </tbody>\n",
       "</table>\n",
       "<p>18901 rows × 3 columns</p>\n",
       "</div>"
      ],
      "text/plain": [
       "          Gene                                       protein name  \\\n",
       "0         A1BG                             alpha-1-B glycoprotein   \n",
       "2         A1CF                     APOBEC1 complementation factor   \n",
       "12         A2M                              alpha-2-macroglobulin   \n",
       "13       A2ML1                       alpha-2-macroglobulin like 1   \n",
       "16     A3GALT2                  alpha 1,3-galactosyltransferase 2   \n",
       "...        ...                                                ...   \n",
       "48910   ZYG11A       zyg-11 family member A, cell cycle regulator   \n",
       "48912   ZYG11B       zyg-11 family member B, cell cycle regulator   \n",
       "48916      ZYX                                              zyxin   \n",
       "48918    ZZEF1  zinc finger ZZ-type and EF-hand domain contain...   \n",
       "48921     ZZZ3                   zinc finger ZZ-type containing 3   \n",
       "\n",
       "                                                Sequence  \n",
       "0      MSMLVVFLLLWGVTWGPVTEAAIFYETQPSLWAESESLLKPLANVT...  \n",
       "2      MESNHKSGDGLSGTQKEAALRALVQRTGYSLVQENGQRKYGGPPPG...  \n",
       "12     MGKNKLLHPSLVLLLLVLLPTDASVSGKPQYMVLVPSLLHTETTEK...  \n",
       "13     MWAQLLLGMLALSPAIAEELPNYLVTLPARLNFPSVQKVCLDLSPG...  \n",
       "16     MALKEGLRAWKRIFWRQILLTLGLLGLFLYGLPKFRHLEALIPMGV...  \n",
       "...                                                  ...  \n",
       "48910  MVHFLHPGHTPRNIVPPDAQKDALGCCVVQEEASPYTLVNICLNVL...  \n",
       "48912  MPEDQAGAAMEEASPYSLLDICLNFLTTHLEKFCSARQDGTLCLQE...  \n",
       "48916  MAAPRPSPAISVSVSAPAFYAPQKKFGPVVAPKPKVNPFRPGDSEP...  \n",
       "48918  MGNAPSHSSEDEAAAAGGEGWGPHQDWAAVSGTTPGPGVAAPALPP...  \n",
       "48921  MAASRSTRVTRSTVGLNGLDESFCGRTLRNRSIAHPEEISSNSQVR...  \n",
       "\n",
       "[18901 rows x 3 columns]"
      ]
     },
     "execution_count": 7,
     "metadata": {},
     "output_type": "execute_result"
    }
   ],
   "source": [
    "Hm_Genes"
   ]
  },
  {
   "cell_type": "code",
   "execution_count": 9,
   "id": "04c2b406",
   "metadata": {},
   "outputs": [],
   "source": [
    "# write it to file\n",
    "Hm_Genes.to_csv('Data/allHumanGenes/human_Genes.csv',index = False)"
   ]
  },
  {
   "cell_type": "code",
   "execution_count": null,
   "id": "e9c2a7d2",
   "metadata": {},
   "outputs": [],
   "source": []
  },
  {
   "cell_type": "code",
   "execution_count": null,
   "id": "ef83cf52",
   "metadata": {},
   "outputs": [],
   "source": []
  },
  {
   "cell_type": "markdown",
   "id": "6298e8fb",
   "metadata": {},
   "source": [
    "## Generate negative samples (no repetitve) for each cancer type"
   ]
  },
  {
   "cell_type": "code",
   "execution_count": 10,
   "id": "aa1a5b14",
   "metadata": {},
   "outputs": [
    {
     "data": {
      "text/plain": [
       "(978, 1)"
      ]
     },
     "execution_count": 10,
     "metadata": {},
     "output_type": "execute_result"
    }
   ],
   "source": [
    "allG = pd.read_csv('Data/all_positive_genes.csv',delimiter='\\n', dtype=str)\n",
    "allG.shape"
   ]
  },
  {
   "cell_type": "code",
   "execution_count": 11,
   "id": "5e1f1684",
   "metadata": {},
   "outputs": [
    {
     "data": {
      "text/plain": [
       "(272, 1)"
      ]
     },
     "execution_count": 11,
     "metadata": {},
     "output_type": "execute_result"
    }
   ],
   "source": [
    "allT = pd.read_csv('Data/all_positive_targets.csv',delimiter='\\n', dtype=str)\n",
    "allT.shape"
   ]
  },
  {
   "cell_type": "code",
   "execution_count": null,
   "id": "d7d04a7a",
   "metadata": {},
   "outputs": [],
   "source": [
    "# PPI_Genes = pd.read_csv('Data/all_String_proteins.csv',delimiter='\\n', dtype=str)\n",
    "# PPI_Genes.shape\n",
    "allG"
   ]
  },
  {
   "cell_type": "code",
   "execution_count": 13,
   "id": "b8237c8d",
   "metadata": {},
   "outputs": [],
   "source": [
    "notfound= [' BOLA2B',\n",
    " ' BPY2B',\n",
    " ' BPY2C',\n",
    " ' CGB5',\n",
    " ' CGB8',\n",
    " ' CT47A10',\n",
    " ' CT47A11',\n",
    " ' CT47A12',\n",
    " ' CT47A2',\n",
    " ' CT47A3',\n",
    " ' CT47A4',\n",
    " ' CT47A5',\n",
    " ' CT47A6',\n",
    " ' CT47A7',\n",
    " ' CT47A8',\n",
    " ' CT47A9',\n",
    " ' CTAG1B',\n",
    " ' DEFA1B',\n",
    " ' F8A2',\n",
    " ' F8A3',\n",
    " ' H2AB3',\n",
    " ' H2AC13',\n",
    " ' H2AC15',\n",
    " ' H2AC16',\n",
    " ' H2AC17',\n",
    " ' H2AC8',\n",
    " ' H2BC10',\n",
    " ' H2BC6',\n",
    " ' H2BC7',\n",
    " ' H2BC8',\n",
    " ' MAGEA9B',\n",
    " ' MAGED4B',\n",
    " ' NXF2B',\n",
    " ' RBMY1J',\n",
    " ' SERF1B',\n",
    " ' SSX2B',\n",
    " ' SSX4B',\n",
    " ' XAGE1B',\n",
    " 'BAGE3',\n",
    " 'BAGE4',\n",
    " 'BNIP1',\n",
    " 'BPY2',\n",
    " 'C10orf53',\n",
    " 'C15orf65',\n",
    " 'C4orf54',\n",
    " 'C9orf47',\n",
    " 'CA5BP1',\n",
    " 'CCL23',\n",
    " 'CGB3',\n",
    " 'CTAGE8',\n",
    " 'DRD4',\n",
    " 'EEF1AKMT4-ECE2',\n",
    " 'F8A1',\n",
    " 'FAM205C',\n",
    " 'FAM25G',\n",
    " 'FCGR2C',\n",
    " 'FOXD4L6',\n",
    " 'GAGE12G',\n",
    " 'GAGE13',\n",
    " 'GAGE2E',\n",
    " 'HLA-C',\n",
    " 'HSFX3',\n",
    " 'IQCM',\n",
    " 'KNCN',\n",
    " 'LIM2',\n",
    " 'MAGEB17',\n",
    " 'MPC1L',\n",
    " 'MS4A1',\n",
    " 'MUC2',\n",
    " 'MYMX',\n",
    " 'P2RY11',\n",
    " 'PGBD3',\n",
    " 'PRAMEF27',\n",
    " 'PRR20C',\n",
    " 'PRR20D',\n",
    " 'RBMY1F',\n",
    " 'RPL36AL',\n",
    " 'RPS4Y1',\n",
    " 'RSPH9',\n",
    " 'SPAG11B',\n",
    " 'SSX2',\n",
    " 'ST6GALNAC6',\n",
    " 'TCEAL6',\n",
    " 'TEX13C',\n",
    " 'TEX50',\n",
    " 'TMSB15B',\n",
    " 'TYMSOS',\n",
    " 'UTS2',\n",
    " 'VKORC1L1',\n",
    " 'ZNF705B',\n",
    " 'ZNF735',\n",
    " 'ZNF788P',\n",
    " 'ZNF843',\n",
    " 'ZNF878']\n",
    "notfound = pd.DataFrame(notfound)"
   ]
  },
  {
   "cell_type": "code",
   "execution_count": 14,
   "id": "24b2f81d",
   "metadata": {},
   "outputs": [],
   "source": [
    "# Genes not found in all_negative_genes_1:\n",
    "# {'KIR3DS1', 'ZFY', 'NOPCHAP1', 'TSPY10', 'DNAAF11', 'CCDC187', 'SPDYE16', 'VCY',\n",
    "# 'TBC1D3G', 'SPEGNB', 'LOC100653049', 'TARP', 'LOC391322', 'TSPY4', 'CASP12',\n",
    "# 'TEX51', 'MYO15B', 'COPS9', 'LOC118142757', 'ATG9B', 'LOC100506422', 'FAM106C',\n",
    "# 'ODAD1', 'TSTD3', 'CD300H', 'H4C14'}\n",
    "\n",
    "# Genes not found in all_negative_genes_2:\n",
    "# {'TAS2R45', 'DYNLT2B', 'H4C9', 'SPATA31C1', 'TSPY3', 'CDY1', 'CCDC187',\n",
    "# 'LOC101059915', 'USP9Y', 'SPAAR', 'KIR2DS1', 'ODAD4', 'NLRP2B', 'MTRFR',\n",
    "# 'OR9G9', 'OR2W5P', 'ELOA3DP', 'DUX1', 'PABIR3', 'DNAAF9', 'LOC107987425',\n",
    "# 'TMEM225B', 'LBHD2', 'ZNF888', 'CCDC192', 'DAZ4', 'LINC02897', 'MYO15B',\n",
    "# 'DYNLT4', 'OR2J1', 'H2AC12', 'ODAD3', 'TGIF2LY', 'TSPY1', 'KIR2DS2', 'NBDY',\n",
    "# 'SPACA6', 'COLCA1', 'IFNL4', 'PHAF1', 'PRY2', 'TMEM265', 'SPDYE16', 'KIR2DL5A',\n",
    "# 'LOC389602', 'LINC02903', 'GAGE12I', 'DPEP2NB', 'LOC100996709', 'PCOTH',\n",
    "# 'GIMD1', 'LOC100506422'}\n"
   ]
  },
  {
   "cell_type": "code",
   "execution_count": 15,
   "id": "d0fe80c8",
   "metadata": {},
   "outputs": [
    {
     "data": {
      "text/html": [
       "<div>\n",
       "<style scoped>\n",
       "    .dataframe tbody tr th:only-of-type {\n",
       "        vertical-align: middle;\n",
       "    }\n",
       "\n",
       "    .dataframe tbody tr th {\n",
       "        vertical-align: top;\n",
       "    }\n",
       "\n",
       "    .dataframe thead th {\n",
       "        text-align: right;\n",
       "    }\n",
       "</style>\n",
       "<table border=\"1\" class=\"dataframe\">\n",
       "  <thead>\n",
       "    <tr style=\"text-align: right;\">\n",
       "      <th></th>\n",
       "      <th>0</th>\n",
       "    </tr>\n",
       "  </thead>\n",
       "  <tbody>\n",
       "    <tr>\n",
       "      <th>0</th>\n",
       "      <td>BOLA2B</td>\n",
       "    </tr>\n",
       "    <tr>\n",
       "      <th>1</th>\n",
       "      <td>BPY2B</td>\n",
       "    </tr>\n",
       "    <tr>\n",
       "      <th>2</th>\n",
       "      <td>BPY2C</td>\n",
       "    </tr>\n",
       "    <tr>\n",
       "      <th>3</th>\n",
       "      <td>CGB5</td>\n",
       "    </tr>\n",
       "  </tbody>\n",
       "</table>\n",
       "</div>"
      ],
      "text/plain": [
       "         0\n",
       "0   BOLA2B\n",
       "1    BPY2B\n",
       "2    BPY2C\n",
       "3     CGB5"
      ]
     },
     "execution_count": 15,
     "metadata": {},
     "output_type": "execute_result"
    }
   ],
   "source": [
    "notfound.to_csv('Data/notfound.csv', index=False)\n",
    "notfound_df = pd.read_csv('Data/notfound.csv', dtype=str)\n",
    "\n",
    "\n",
    "notfound_df.head(4)"
   ]
  },
  {
   "cell_type": "code",
   "execution_count": 16,
   "id": "3c01ccf8",
   "metadata": {},
   "outputs": [],
   "source": [
    "frames = [allT , allG]\n",
    "allPos = pd.concat(frames,axis=0,join=\"outer\",ignore_index=True)"
   ]
  },
  {
   "cell_type": "code",
   "execution_count": 17,
   "id": "0dd9755e",
   "metadata": {},
   "outputs": [
    {
     "data": {
      "text/html": [
       "<div>\n",
       "<style scoped>\n",
       "    .dataframe tbody tr th:only-of-type {\n",
       "        vertical-align: middle;\n",
       "    }\n",
       "\n",
       "    .dataframe tbody tr th {\n",
       "        vertical-align: top;\n",
       "    }\n",
       "\n",
       "    .dataframe thead th {\n",
       "        text-align: right;\n",
       "    }\n",
       "</style>\n",
       "<table border=\"1\" class=\"dataframe\">\n",
       "  <thead>\n",
       "    <tr style=\"text-align: right;\">\n",
       "      <th></th>\n",
       "      <th>0</th>\n",
       "    </tr>\n",
       "  </thead>\n",
       "  <tbody>\n",
       "    <tr>\n",
       "      <th>0</th>\n",
       "      <td>CD274</td>\n",
       "    </tr>\n",
       "    <tr>\n",
       "      <th>1</th>\n",
       "      <td>FGFR1</td>\n",
       "    </tr>\n",
       "    <tr>\n",
       "      <th>2</th>\n",
       "      <td>FGFR2</td>\n",
       "    </tr>\n",
       "    <tr>\n",
       "      <th>3</th>\n",
       "      <td>FGFR3</td>\n",
       "    </tr>\n",
       "    <tr>\n",
       "      <th>4</th>\n",
       "      <td>FGFR4</td>\n",
       "    </tr>\n",
       "    <tr>\n",
       "      <th>...</th>\n",
       "      <td>...</td>\n",
       "    </tr>\n",
       "    <tr>\n",
       "      <th>1245</th>\n",
       "      <td>UNC5D</td>\n",
       "    </tr>\n",
       "    <tr>\n",
       "      <th>1246</th>\n",
       "      <td>PLCZ1</td>\n",
       "    </tr>\n",
       "    <tr>\n",
       "      <th>1247</th>\n",
       "      <td>PKLR</td>\n",
       "    </tr>\n",
       "    <tr>\n",
       "      <th>1248</th>\n",
       "      <td>ATP12A</td>\n",
       "    </tr>\n",
       "    <tr>\n",
       "      <th>1249</th>\n",
       "      <td>LGALS13</td>\n",
       "    </tr>\n",
       "  </tbody>\n",
       "</table>\n",
       "<p>1250 rows × 1 columns</p>\n",
       "</div>"
      ],
      "text/plain": [
       "            0\n",
       "0       CD274\n",
       "1       FGFR1\n",
       "2       FGFR2\n",
       "3       FGFR3\n",
       "4       FGFR4\n",
       "...       ...\n",
       "1245    UNC5D\n",
       "1246    PLCZ1\n",
       "1247     PKLR\n",
       "1248   ATP12A\n",
       "1249  LGALS13\n",
       "\n",
       "[1250 rows x 1 columns]"
      ]
     },
     "execution_count": 17,
     "metadata": {},
     "output_type": "execute_result"
    }
   ],
   "source": [
    "allPos"
   ]
  },
  {
   "cell_type": "code",
   "execution_count": 18,
   "id": "cc6c4d6c",
   "metadata": {},
   "outputs": [
    {
     "data": {
      "text/plain": [
       "pandas.core.frame.DataFrame"
      ]
     },
     "execution_count": 18,
     "metadata": {},
     "output_type": "execute_result"
    }
   ],
   "source": [
    "frames = [allPos,notfound_df ]\n",
    "exclude= pd.concat(frames,axis=0,join=\"outer\",ignore_index=True)\n",
    "type(exclude)"
   ]
  },
  {
   "cell_type": "code",
   "execution_count": 109,
   "id": "358fa4e7",
   "metadata": {},
   "outputs": [
    {
     "data": {
      "text/plain": [
       "(1344, 1)"
      ]
     },
     "execution_count": 109,
     "metadata": {},
     "output_type": "execute_result"
    }
   ],
   "source": [
    "# exclude.columns =['Gene']\n",
    "exclude.shape"
   ]
  },
  {
   "cell_type": "code",
   "execution_count": 41,
   "id": "bb39f2ca",
   "metadata": {},
   "outputs": [
    {
     "data": {
      "text/plain": [
       "((1852, 3), (3900, 3))"
      ]
     },
     "execution_count": 41,
     "metadata": {},
     "output_type": "execute_result"
    }
   ],
   "source": [
    "all_neg_info1 = pd.read_csv('Data/neg/all_negative_genes_w_info.csv', dtype=str)\n",
    "all_neg_info2 = pd.read_csv('Data/neg/all_negative_genes_w_info_2.csv',dtype=str)\n",
    "\n",
    "all_neg_info1.shape, all_neg_info2.shape"
   ]
  },
  {
   "cell_type": "code",
   "execution_count": 43,
   "id": "485ee9d6",
   "metadata": {},
   "outputs": [
    {
     "data": {
      "text/plain": [
       "(5368, 3)"
      ]
     },
     "execution_count": 43,
     "metadata": {},
     "output_type": "execute_result"
    }
   ],
   "source": [
    "neg = [all_neg_info1, all_neg_info2]\n",
    "all_neg_info = pd.concat(neg,axis=0, join=\"outer\",ignore_index=True)\n",
    "# all_neg_info.head()\n",
    "neg_str_info = all_neg_info.drop_duplicates(subset=['Gene'])\n",
    "neg_str_info.shape"
   ]
  },
  {
   "cell_type": "code",
   "execution_count": 29,
   "id": "d1a57edd",
   "metadata": {},
   "outputs": [
    {
     "data": {
      "text/plain": [
       "((1852, 1), (3900, 1))"
      ]
     },
     "execution_count": 29,
     "metadata": {},
     "output_type": "execute_result"
    }
   ],
   "source": [
    "all_neg_1 = pd.read_csv('Data/neg/all_negative_genes_1.csv',sep='\\t', dtype=str)\n",
    "all_neg_2 = pd.read_csv('Data/neg/all_negative_genes_2.csv', sep='\\t',dtype=str)\n",
    "\n",
    "all_neg_map1.shape, all_neg_map2.shape"
   ]
  },
  {
   "cell_type": "code",
   "execution_count": 30,
   "id": "2b298c26",
   "metadata": {},
   "outputs": [
    {
     "data": {
      "text/plain": [
       "((1826, 2), (3848, 2))"
      ]
     },
     "execution_count": 30,
     "metadata": {},
     "output_type": "execute_result"
    }
   ],
   "source": [
    "all_neg_map1 = pd.read_csv('Data/neg/all_negative_genes_map1.tsv',sep='\\t', dtype=str)\n",
    "all_neg_map2 = pd.read_csv('Data/neg/all_negative_genes_map2.tsv', sep='\\t',dtype=str)\n",
    "\n",
    "all_neg_map1.shape, all_neg_map2.shape"
   ]
  },
  {
   "cell_type": "code",
   "execution_count": 31,
   "id": "141746c2",
   "metadata": {},
   "outputs": [
    {
     "data": {
      "text/html": [
       "<div>\n",
       "<style scoped>\n",
       "    .dataframe tbody tr th:only-of-type {\n",
       "        vertical-align: middle;\n",
       "    }\n",
       "\n",
       "    .dataframe tbody tr th {\n",
       "        vertical-align: top;\n",
       "    }\n",
       "\n",
       "    .dataframe thead th {\n",
       "        text-align: right;\n",
       "    }\n",
       "</style>\n",
       "<table border=\"1\" class=\"dataframe\">\n",
       "  <thead>\n",
       "    <tr style=\"text-align: right;\">\n",
       "      <th></th>\n",
       "      <th>Gene</th>\n",
       "      <th>STRING_id</th>\n",
       "    </tr>\n",
       "  </thead>\n",
       "  <tbody>\n",
       "    <tr>\n",
       "      <th>0</th>\n",
       "      <td>CRTC1</td>\n",
       "      <td>9606.ENSP00000345001</td>\n",
       "    </tr>\n",
       "    <tr>\n",
       "      <th>1</th>\n",
       "      <td>CST11</td>\n",
       "      <td>9606.ENSP00000366208</td>\n",
       "    </tr>\n",
       "    <tr>\n",
       "      <th>2</th>\n",
       "      <td>CRYBB1</td>\n",
       "      <td>9606.ENSP00000215939</td>\n",
       "    </tr>\n",
       "  </tbody>\n",
       "</table>\n",
       "</div>"
      ],
      "text/plain": [
       "     Gene             STRING_id\n",
       "0   CRTC1  9606.ENSP00000345001\n",
       "1   CST11  9606.ENSP00000366208\n",
       "2  CRYBB1  9606.ENSP00000215939"
      ]
     },
     "execution_count": 31,
     "metadata": {},
     "output_type": "execute_result"
    }
   ],
   "source": [
    "all_neg_map1.head(3)"
   ]
  },
  {
   "cell_type": "code",
   "execution_count": 33,
   "id": "48fd17c6",
   "metadata": {},
   "outputs": [],
   "source": [
    "neg = [all_neg_map2, all_neg_map1]"
   ]
  },
  {
   "cell_type": "code",
   "execution_count": 34,
   "id": "f2e667b3",
   "metadata": {},
   "outputs": [],
   "source": [
    "all_neg_str = pd.concat(neg,axis=0, join=\"outer\",ignore_index=True)"
   ]
  },
  {
   "cell_type": "code",
   "execution_count": 35,
   "id": "33876635",
   "metadata": {},
   "outputs": [
    {
     "data": {
      "text/plain": [
       "(5674, 2)"
      ]
     },
     "execution_count": 35,
     "metadata": {},
     "output_type": "execute_result"
    }
   ],
   "source": [
    "all_neg_str.shape"
   ]
  },
  {
   "cell_type": "code",
   "execution_count": 36,
   "id": "bddd56a7",
   "metadata": {},
   "outputs": [
    {
     "data": {
      "text/plain": [
       "(5294, 2)"
      ]
     },
     "execution_count": 36,
     "metadata": {},
     "output_type": "execute_result"
    }
   ],
   "source": [
    "neg_str_map = all_neg_str.drop_duplicates(subset=['Gene'])\n",
    "neg_str_map.shape"
   ]
  },
  {
   "cell_type": "code",
   "execution_count": 44,
   "id": "645b159d",
   "metadata": {},
   "outputs": [
    {
     "name": "stdout",
     "output_type": "stream",
     "text": [
      "(5294, 4)\n"
     ]
    },
    {
     "data": {
      "text/html": [
       "<div>\n",
       "<style scoped>\n",
       "    .dataframe tbody tr th:only-of-type {\n",
       "        vertical-align: middle;\n",
       "    }\n",
       "\n",
       "    .dataframe tbody tr th {\n",
       "        vertical-align: top;\n",
       "    }\n",
       "\n",
       "    .dataframe thead th {\n",
       "        text-align: right;\n",
       "    }\n",
       "</style>\n",
       "<table border=\"1\" class=\"dataframe\">\n",
       "  <thead>\n",
       "    <tr style=\"text-align: right;\">\n",
       "      <th></th>\n",
       "      <th>Gene</th>\n",
       "      <th>STRING_id</th>\n",
       "      <th>Sequence</th>\n",
       "      <th>Label</th>\n",
       "    </tr>\n",
       "  </thead>\n",
       "  <tbody>\n",
       "    <tr>\n",
       "      <th>0</th>\n",
       "      <td>OVCH2</td>\n",
       "      <td>9606.ENSP00000484497</td>\n",
       "      <td>MLISRNKLILLLGIVFFERGKSATLSLPKAPSCGQSLVKVQPWNYF...</td>\n",
       "      <td>0</td>\n",
       "    </tr>\n",
       "    <tr>\n",
       "      <th>1</th>\n",
       "      <td>PDCL3</td>\n",
       "      <td>9606.ENSP00000264254</td>\n",
       "      <td>MQDPNADTEWNDILRKKGILPPKESLKELEEEAEEEQRILQQSVVK...</td>\n",
       "      <td>0</td>\n",
       "    </tr>\n",
       "    <tr>\n",
       "      <th>2</th>\n",
       "      <td>DOCK1</td>\n",
       "      <td>9606.ENSP00000280333</td>\n",
       "      <td>MTRWVPTKREEKYGVAFYNYDARGADELSLQIGDTVHILETYEGWY...</td>\n",
       "      <td>0</td>\n",
       "    </tr>\n",
       "  </tbody>\n",
       "</table>\n",
       "</div>"
      ],
      "text/plain": [
       "    Gene             STRING_id  \\\n",
       "0  OVCH2  9606.ENSP00000484497   \n",
       "1  PDCL3  9606.ENSP00000264254   \n",
       "2  DOCK1  9606.ENSP00000280333   \n",
       "\n",
       "                                            Sequence Label  \n",
       "0  MLISRNKLILLLGIVFFERGKSATLSLPKAPSCGQSLVKVQPWNYF...     0  \n",
       "1  MQDPNADTEWNDILRKKGILPPKESLKELEEEAEEEQRILQQSVVK...     0  \n",
       "2  MTRWVPTKREEKYGVAFYNYDARGADELSLQIGDTVHILETYEGWY...     0  "
      ]
     },
     "execution_count": 44,
     "metadata": {},
     "output_type": "execute_result"
    }
   ],
   "source": [
    "## Merge Genes with string mapping and information\n",
    "all_neg_map_info  = pd.merge(neg_str_map, neg_str_info, on='Gene', how='inner')\n",
    "print(all_neg_map_info.shape)\n",
    "all_neg_map_info.head(3)"
   ]
  },
  {
   "cell_type": "code",
   "execution_count": 46,
   "id": "3726d5db",
   "metadata": {},
   "outputs": [],
   "source": [
    "all_neg_map_info.to_csv('Data/neg/ALL_NegG_map_info.csv', index=False)"
   ]
  },
  {
   "cell_type": "code",
   "execution_count": 56,
   "id": "72386f1f",
   "metadata": {},
   "outputs": [],
   "source": [
    "del all_neg_map_info['STRING_id']"
   ]
  },
  {
   "cell_type": "code",
   "execution_count": 57,
   "id": "29894332",
   "metadata": {},
   "outputs": [
    {
     "data": {
      "text/html": [
       "<div>\n",
       "<style scoped>\n",
       "    .dataframe tbody tr th:only-of-type {\n",
       "        vertical-align: middle;\n",
       "    }\n",
       "\n",
       "    .dataframe tbody tr th {\n",
       "        vertical-align: top;\n",
       "    }\n",
       "\n",
       "    .dataframe thead th {\n",
       "        text-align: right;\n",
       "    }\n",
       "</style>\n",
       "<table border=\"1\" class=\"dataframe\">\n",
       "  <thead>\n",
       "    <tr style=\"text-align: right;\">\n",
       "      <th></th>\n",
       "      <th>Gene</th>\n",
       "      <th>Sequence</th>\n",
       "      <th>Label</th>\n",
       "    </tr>\n",
       "  </thead>\n",
       "  <tbody>\n",
       "    <tr>\n",
       "      <th>0</th>\n",
       "      <td>OVCH2</td>\n",
       "      <td>MLISRNKLILLLGIVFFERGKSATLSLPKAPSCGQSLVKVQPWNYF...</td>\n",
       "      <td>0</td>\n",
       "    </tr>\n",
       "    <tr>\n",
       "      <th>1</th>\n",
       "      <td>PDCL3</td>\n",
       "      <td>MQDPNADTEWNDILRKKGILPPKESLKELEEEAEEEQRILQQSVVK...</td>\n",
       "      <td>0</td>\n",
       "    </tr>\n",
       "  </tbody>\n",
       "</table>\n",
       "</div>"
      ],
      "text/plain": [
       "    Gene                                           Sequence Label\n",
       "0  OVCH2  MLISRNKLILLLGIVFFERGKSATLSLPKAPSCGQSLVKVQPWNYF...     0\n",
       "1  PDCL3  MQDPNADTEWNDILRKKGILPPKESLKELEEEAEEEQRILQQSVVK...     0"
      ]
     },
     "execution_count": 57,
     "metadata": {},
     "output_type": "execute_result"
    }
   ],
   "source": [
    "all_neg_map_info.head(2)"
   ]
  },
  {
   "cell_type": "code",
   "execution_count": 110,
   "id": "a0a76a6c",
   "metadata": {},
   "outputs": [],
   "source": [
    "allNegative_pool = Hm_Genes.loc[~((Hm_Genes.Gene.isin(exclude['Gene']))),:]"
   ]
  },
  {
   "cell_type": "code",
   "execution_count": 111,
   "id": "e28a4d19",
   "metadata": {},
   "outputs": [
    {
     "data": {
      "text/plain": [
       "(17656, 3)"
      ]
     },
     "execution_count": 111,
     "metadata": {},
     "output_type": "execute_result"
    }
   ],
   "source": [
    "allNegative_pool.shape"
   ]
  },
  {
   "cell_type": "code",
   "execution_count": 112,
   "id": "b876200f",
   "metadata": {},
   "outputs": [
    {
     "name": "stderr",
     "output_type": "stream",
     "text": [
      "<ipython-input-112-d42be23f2995>:5: SettingWithCopyWarning: \n",
      "A value is trying to be set on a copy of a slice from a DataFrame.\n",
      "Try using .loc[row_indexer,col_indexer] = value instead\n",
      "\n",
      "See the caveats in the documentation: https://pandas.pydata.org/pandas-docs/stable/user_guide/indexing.html#returning-a-view-versus-a-copy\n",
      "  allNegative_pool['Label'] = class_lab\n"
     ]
    }
   ],
   "source": [
    "class_lab = [0] * allNegative_pool.shape[0]\n",
    "  \n",
    "# Using 'Address' as the column name\n",
    "# and equating it to the list\n",
    "allNegative_pool['Label'] = class_lab"
   ]
  },
  {
   "cell_type": "code",
   "execution_count": 113,
   "id": "c24019cb",
   "metadata": {},
   "outputs": [
    {
     "data": {
      "text/html": [
       "<div>\n",
       "<style scoped>\n",
       "    .dataframe tbody tr th:only-of-type {\n",
       "        vertical-align: middle;\n",
       "    }\n",
       "\n",
       "    .dataframe tbody tr th {\n",
       "        vertical-align: top;\n",
       "    }\n",
       "\n",
       "    .dataframe thead th {\n",
       "        text-align: right;\n",
       "    }\n",
       "</style>\n",
       "<table border=\"1\" class=\"dataframe\">\n",
       "  <thead>\n",
       "    <tr style=\"text-align: right;\">\n",
       "      <th></th>\n",
       "      <th>Gene</th>\n",
       "      <th>protein name</th>\n",
       "      <th>Sequence</th>\n",
       "      <th>Label</th>\n",
       "    </tr>\n",
       "  </thead>\n",
       "  <tbody>\n",
       "    <tr>\n",
       "      <th>0</th>\n",
       "      <td>A1BG</td>\n",
       "      <td>alpha-1-B glycoprotein</td>\n",
       "      <td>MSMLVVFLLLWGVTWGPVTEAAIFYETQPSLWAESESLLKPLANVT...</td>\n",
       "      <td>0</td>\n",
       "    </tr>\n",
       "    <tr>\n",
       "      <th>2</th>\n",
       "      <td>A1CF</td>\n",
       "      <td>APOBEC1 complementation factor</td>\n",
       "      <td>MESNHKSGDGLSGTQKEAALRALVQRTGYSLVQENGQRKYGGPPPG...</td>\n",
       "      <td>0</td>\n",
       "    </tr>\n",
       "    <tr>\n",
       "      <th>13</th>\n",
       "      <td>A2ML1</td>\n",
       "      <td>alpha-2-macroglobulin like 1</td>\n",
       "      <td>MWAQLLLGMLALSPAIAEELPNYLVTLPARLNFPSVQKVCLDLSPG...</td>\n",
       "      <td>0</td>\n",
       "    </tr>\n",
       "    <tr>\n",
       "      <th>16</th>\n",
       "      <td>A3GALT2</td>\n",
       "      <td>alpha 1,3-galactosyltransferase 2</td>\n",
       "      <td>MALKEGLRAWKRIFWRQILLTLGLLGLFLYGLPKFRHLEALIPMGV...</td>\n",
       "      <td>0</td>\n",
       "    </tr>\n",
       "    <tr>\n",
       "      <th>17</th>\n",
       "      <td>A4GALT</td>\n",
       "      <td>alpha 1,4-galactosyltransferase (P blood group)</td>\n",
       "      <td>MSKPPDLLLRLLRGAPRQRVCTLFIIGFKFTFFVSIMIYWHVVGEP...</td>\n",
       "      <td>0</td>\n",
       "    </tr>\n",
       "    <tr>\n",
       "      <th>...</th>\n",
       "      <td>...</td>\n",
       "      <td>...</td>\n",
       "      <td>...</td>\n",
       "      <td>...</td>\n",
       "    </tr>\n",
       "    <tr>\n",
       "      <th>48910</th>\n",
       "      <td>ZYG11A</td>\n",
       "      <td>zyg-11 family member A, cell cycle regulator</td>\n",
       "      <td>MVHFLHPGHTPRNIVPPDAQKDALGCCVVQEEASPYTLVNICLNVL...</td>\n",
       "      <td>0</td>\n",
       "    </tr>\n",
       "    <tr>\n",
       "      <th>48912</th>\n",
       "      <td>ZYG11B</td>\n",
       "      <td>zyg-11 family member B, cell cycle regulator</td>\n",
       "      <td>MPEDQAGAAMEEASPYSLLDICLNFLTTHLEKFCSARQDGTLCLQE...</td>\n",
       "      <td>0</td>\n",
       "    </tr>\n",
       "    <tr>\n",
       "      <th>48916</th>\n",
       "      <td>ZYX</td>\n",
       "      <td>zyxin</td>\n",
       "      <td>MAAPRPSPAISVSVSAPAFYAPQKKFGPVVAPKPKVNPFRPGDSEP...</td>\n",
       "      <td>0</td>\n",
       "    </tr>\n",
       "    <tr>\n",
       "      <th>48918</th>\n",
       "      <td>ZZEF1</td>\n",
       "      <td>zinc finger ZZ-type and EF-hand domain contain...</td>\n",
       "      <td>MGNAPSHSSEDEAAAAGGEGWGPHQDWAAVSGTTPGPGVAAPALPP...</td>\n",
       "      <td>0</td>\n",
       "    </tr>\n",
       "    <tr>\n",
       "      <th>48921</th>\n",
       "      <td>ZZZ3</td>\n",
       "      <td>zinc finger ZZ-type containing 3</td>\n",
       "      <td>MAASRSTRVTRSTVGLNGLDESFCGRTLRNRSIAHPEEISSNSQVR...</td>\n",
       "      <td>0</td>\n",
       "    </tr>\n",
       "  </tbody>\n",
       "</table>\n",
       "<p>17656 rows × 4 columns</p>\n",
       "</div>"
      ],
      "text/plain": [
       "          Gene                                       protein name  \\\n",
       "0         A1BG                             alpha-1-B glycoprotein   \n",
       "2         A1CF                     APOBEC1 complementation factor   \n",
       "13       A2ML1                       alpha-2-macroglobulin like 1   \n",
       "16     A3GALT2                  alpha 1,3-galactosyltransferase 2   \n",
       "17      A4GALT    alpha 1,4-galactosyltransferase (P blood group)   \n",
       "...        ...                                                ...   \n",
       "48910   ZYG11A       zyg-11 family member A, cell cycle regulator   \n",
       "48912   ZYG11B       zyg-11 family member B, cell cycle regulator   \n",
       "48916      ZYX                                              zyxin   \n",
       "48918    ZZEF1  zinc finger ZZ-type and EF-hand domain contain...   \n",
       "48921     ZZZ3                   zinc finger ZZ-type containing 3   \n",
       "\n",
       "                                                Sequence  Label  \n",
       "0      MSMLVVFLLLWGVTWGPVTEAAIFYETQPSLWAESESLLKPLANVT...      0  \n",
       "2      MESNHKSGDGLSGTQKEAALRALVQRTGYSLVQENGQRKYGGPPPG...      0  \n",
       "13     MWAQLLLGMLALSPAIAEELPNYLVTLPARLNFPSVQKVCLDLSPG...      0  \n",
       "16     MALKEGLRAWKRIFWRQILLTLGLLGLFLYGLPKFRHLEALIPMGV...      0  \n",
       "17     MSKPPDLLLRLLRGAPRQRVCTLFIIGFKFTFFVSIMIYWHVVGEP...      0  \n",
       "...                                                  ...    ...  \n",
       "48910  MVHFLHPGHTPRNIVPPDAQKDALGCCVVQEEASPYTLVNICLNVL...      0  \n",
       "48912  MPEDQAGAAMEEASPYSLLDICLNFLTTHLEKFCSARQDGTLCLQE...      0  \n",
       "48916  MAAPRPSPAISVSVSAPAFYAPQKKFGPVVAPKPKVNPFRPGDSEP...      0  \n",
       "48918  MGNAPSHSSEDEAAAAGGEGWGPHQDWAAVSGTTPGPGVAAPALPP...      0  \n",
       "48921  MAASRSTRVTRSTVGLNGLDESFCGRTLRNRSIAHPEEISSNSQVR...      0  \n",
       "\n",
       "[17656 rows x 4 columns]"
      ]
     },
     "execution_count": 113,
     "metadata": {},
     "output_type": "execute_result"
    }
   ],
   "source": [
    "allNegative_pool"
   ]
  },
  {
   "cell_type": "code",
   "execution_count": 115,
   "id": "f0041379",
   "metadata": {},
   "outputs": [],
   "source": [
    "allNegative_pool['Gene'].to_csv('Data/Pool_of_negative_genes.csv',index = False)"
   ]
  },
  {
   "cell_type": "code",
   "execution_count": 116,
   "id": "06777d4c",
   "metadata": {},
   "outputs": [],
   "source": [
    "allNegative_pool.to_csv('Data/Pool_of_negative_genes_with_info.csv',index = False)"
   ]
  },
  {
   "cell_type": "code",
   "execution_count": 59,
   "id": "df541d78",
   "metadata": {},
   "outputs": [],
   "source": [
    "Cancers = ['Bladder','Bone','Breast','Colon','Kidney','Luk','Liver','Lung',\n",
    "           'NonHodgkinLymph','Ovarian','Pancreatic','Rectal','Thyroid' ]\n",
    "number = [115, 112,163,128,143,215,134,158,173,131,127,120,133]\n",
    "\n",
    "n = len(Cancers)\n",
    "k = int(len(all_neg_map_info) / n)\n",
    "negList = set(all_neg_map_info['Gene'])\n",
    "selected_unique_subset = []\n",
    "\n",
    "for cancer in Cancers:\n",
    "    subset = set(random.choices(list(negList), k=k))\n",
    "    negList -= subset\n",
    "    selected_unique_subset.append(subset)\n",
    "\n",
    "\n",
    "    "
   ]
  },
  {
   "cell_type": "code",
   "execution_count": null,
   "id": "83a1ab83",
   "metadata": {},
   "outputs": [],
   "source": []
  },
  {
   "cell_type": "code",
   "execution_count": 60,
   "id": "96d20a90",
   "metadata": {},
   "outputs": [
    {
     "data": {
      "text/plain": [
       "13"
      ]
     },
     "execution_count": 60,
     "metadata": {},
     "output_type": "execute_result"
    }
   ],
   "source": [
    "len(selected_unique_subset)"
   ]
  },
  {
   "cell_type": "code",
   "execution_count": 58,
   "id": "d8d7e260",
   "metadata": {},
   "outputs": [
    {
     "name": "stdout",
     "output_type": "stream",
     "text": [
      "115\n",
      "Bladder\n",
      "112\n",
      "Bone\n",
      "163\n",
      "Breast\n",
      "128\n",
      "Colon\n",
      "143\n",
      "Kidney\n",
      "215\n",
      "Luk\n",
      "134\n",
      "Liver\n",
      "158\n",
      "Lung\n",
      "173\n",
      "NonHodgkinLymph\n",
      "131\n",
      "Ovarian\n",
      "127\n",
      "Pancreatic\n",
      "120\n",
      "Rectal\n",
      "133\n",
      "Thyroid\n"
     ]
    }
   ],
   "source": [
    "Cancers = ['Bladder','Bone','Breast','Colon','Kidney','Luk','Liver','Lung',\n",
    "           'NonHodgkinLymph','Ovarian','Pancreatic','Rectal','Thyroid' ]\n",
    "\n",
    "num = [115, 112,163,128,143,215,134,158,173,131,127,120,133]\n",
    "selected_negGenes = []\n",
    "for i,num in zip(range(0,len(selected_unique_subset)),number):\n",
    "#for i in range(0,len(selected_unique_subset)):\n",
    "    genes = random.sample(selected_unique_subset[i], num)\n",
    "    print(len(genes))\n",
    "    genes = list(genes)\n",
    "    selected_negGenes.extend(genes)\n",
    "    genes_df = all_neg_map_info.loc[((all_neg_map_info.Gene.isin(genes))),[\"Gene\" ,\"Sequence\",\"Label\"]]\n",
    "    cancer = Cancers[i]\n",
    "    print(cancer)\n",
    "\n",
    "    genes_df.to_csv('Data/Negative Genes Cancer/new_map_string/'+str(cancer)+'_genes_negative.csv',index = False)\n",
    "\n",
    "       \n",
    "    "
   ]
  },
  {
   "cell_type": "code",
   "execution_count": 52,
   "id": "06771eb6",
   "metadata": {},
   "outputs": [],
   "source": [
    "selected_negGenes_df = pd.DataFrame(selected_negGenes)\n",
    "selected_negGenes_df.to_csv('Data/ALL_Negative_GENES_wINFO.csv',index = False)\n",
    "\n",
    "\n",
    "#selected_negGenes_df_w_info = allNegative_pool.loc[((allNegative_pool.Gene.isin(selected_negGenes))),[\"Gene\" ,\"Sequence\",\"Label\"]]"
   ]
  },
  {
   "cell_type": "code",
   "execution_count": 132,
   "id": "b3429795",
   "metadata": {},
   "outputs": [],
   "source": [
    "selected_negGenes_df_w_info.to_csv('Data/all_negative_genes_w_info_2.csv',index = False)"
   ]
  },
  {
   "cell_type": "code",
   "execution_count": 53,
   "id": "484234e2",
   "metadata": {},
   "outputs": [
    {
     "data": {
      "text/plain": [
       "(1852, 1)"
      ]
     },
     "execution_count": 53,
     "metadata": {},
     "output_type": "execute_result"
    }
   ],
   "source": [
    "selected_negGenes_df.shape"
   ]
  },
  {
   "cell_type": "code",
   "execution_count": null,
   "id": "03f76103",
   "metadata": {},
   "outputs": [],
   "source": []
  },
  {
   "cell_type": "code",
   "execution_count": 41,
   "id": "b8bce74c",
   "metadata": {},
   "outputs": [
    {
     "name": "stdout",
     "output_type": "stream",
     "text": [
      "Bladder\n",
      "Bone\n",
      "Breast\n",
      "Colon\n",
      "Kidney\n",
      "Luk\n",
      "Liver\n",
      "Lung\n",
      "NonHodgkinLymph\n",
      "Ovarian\n",
      "Pancreatic\n",
      "Rectal\n",
      "Thyroid\n"
     ]
    }
   ],
   "source": [
    "Cancers = ['Bladder','Bone','Breast','Colon','Kidney','Luk','Liver','Lung',\n",
    "           'NonHodgkinLymph','Ovarian','Pancreatic','Rectal','Thyroid' ]\n",
    "\n",
    "num = [115, 112,163,128,143,215,134,158,173,131,127,120,133]\n",
    "selected_negGenes = []\n",
    "for i,num in zip(range(0,len(selected_unique_subset)),number):\n",
    "    genes = random.sample(selected_unique_subset[i], num)\n",
    "#     print(len(genes))\n",
    "    genes = list(genes)\n",
    "#     selected_negGenes.extend(genes)\n",
    "    genes_df = allNegative_pool.loc[((allNegative_pool.Gene.isin(genes))),[\"Gene\" ,\"Label\"]]\n",
    "    cancer = Cancers[i]\n",
    "    print(cancer)\n",
    "\n",
    "    genes_df.to_csv('Datasets/train_Data/cancer_genes_label/'+str(cancer)+'_genes_negative.csv',index = False)\n",
    "\n",
    "       \n",
    "    "
   ]
  },
  {
   "cell_type": "code",
   "execution_count": null,
   "id": "6d74f88a",
   "metadata": {},
   "outputs": [],
   "source": [
    "## End of the Code ##...."
   ]
  }
 ],
 "metadata": {
  "kernelspec": {
   "display_name": "Python 3",
   "language": "python",
   "name": "python3"
  },
  "language_info": {
   "codemirror_mode": {
    "name": "ipython",
    "version": 3
   },
   "file_extension": ".py",
   "mimetype": "text/x-python",
   "name": "python",
   "nbconvert_exporter": "python",
   "pygments_lexer": "ipython3",
   "version": "3.8.5"
  }
 },
 "nbformat": 4,
 "nbformat_minor": 5
}
